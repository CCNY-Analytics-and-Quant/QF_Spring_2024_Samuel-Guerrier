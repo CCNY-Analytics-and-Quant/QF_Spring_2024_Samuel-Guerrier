{
 "cells": [
  {
   "cell_type": "code",
   "execution_count": null,
   "metadata": {},
   "outputs": [],
   "source": [
    "import pandas as pd\n",
    "import yfinance as yf\n",
    "import datetime as dt\n",
    "\n",
    "# list of assets (updated with our chosen assets):\n",
    "# Companies: Salesforce, HP, Lenovo, Ford, Tesla, Walmart, Target \n",
    "my_tickers = ['CRM', 'HPQ', 'LNVGY', 'F', 'TSLA', 'WMT', 'TGT']\n",
    "\n",
    "\n",
    "# Assign a start date and end date for the data download, 1 year of data\n",
    "start_date = dt.datetime.today() - pd.Timedelta(3650, \"d\")\n",
    "end_date = dt.datetime.today()"
   ]
  }
 ],
 "metadata": {
  "language_info": {
   "name": "python"
  }
 },
 "nbformat": 4,
 "nbformat_minor": 2
}
