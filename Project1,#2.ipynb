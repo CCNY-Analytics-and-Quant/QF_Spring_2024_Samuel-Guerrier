{
 "cells": [
  {
   "cell_type": "code",
   "execution_count": 9,
   "metadata": {},
   "outputs": [
    {
     "name": "stdout",
     "output_type": "stream",
     "text": [
      "SPY\n",
      "IWM\n",
      "DIA\n"
     ]
    }
   ],
   "source": [
    "import pandas as pd\n",
    "import yfinance as yf\n",
    "\n",
    "## Calculation for 2a.\n",
    "# Create a DataFrame with ETF Tickers\n",
    "\n",
    "data = {\n",
    "'ETF Ticker': ['SPY',\n",
    "'IWM', 'DIA']\n",
    "}\n",
    "\n",
    "df = pd.DataFrame(data)\n",
    "\n",
    "# Remove the column name\n",
    "df.columns = [None]\n",
    "\n",
    "# Print the DataFrame\n",
    "print(df.to_string(index=False,\n",
    "header=False))"
   ]
  },
  {
   "cell_type": "code",
   "execution_count": 10,
   "metadata": {},
   "outputs": [
    {
     "name": "stderr",
     "output_type": "stream",
     "text": [
      "c:\\Users\\samue\\AppData\\Local\\Programs\\Python\\Python311\\Lib\\site-packages\\yfinance\\utils.py:775: FutureWarning: The 'unit' keyword in TimedeltaIndex construction is deprecated and will be removed in a future version. Use pd.to_timedelta instead.\n",
      "  df.index += _pd.TimedeltaIndex(dst_error_hours, 'h')\n",
      "c:\\Users\\samue\\AppData\\Local\\Programs\\Python\\Python311\\Lib\\site-packages\\yfinance\\utils.py:775: FutureWarning: The 'unit' keyword in TimedeltaIndex construction is deprecated and will be removed in a future version. Use pd.to_timedelta instead.\n",
      "  df.index += _pd.TimedeltaIndex(dst_error_hours, 'h')\n",
      "[                       0%%                      ]c:\\Users\\samue\\AppData\\Local\\Programs\\Python\\Python311\\Lib\\site-packages\\yfinance\\utils.py:775: FutureWarning: The 'unit' keyword in TimedeltaIndex construction is deprecated and will be removed in a future version. Use pd.to_timedelta instead.\n",
      "  df.index += _pd.TimedeltaIndex(dst_error_hours, 'h')\n",
      "[*********************100%%**********************]  3 of 3 completed"
     ]
    },
    {
     "name": "stdout",
     "output_type": "stream",
     "text": [
      "        Correlation against ETF\n",
      "Ticker                         \n",
      "SPY                    0.939430\n",
      "IWM                    0.942948\n",
      "DIA                    0.929564\n"
     ]
    },
    {
     "name": "stderr",
     "output_type": "stream",
     "text": [
      "\n"
     ]
    }
   ],
   "source": [
    "## Calculation for 2b. \n",
    "\n",
    "# Define ETF tickers and time period\n",
    "etf_tickers = ['SPY','IWM', 'DIA']\n",
    "\n",
    "start_date = '2023-01-01'\n",
    "end_date = '2024-01-01'\n",
    "\n",
    "# Fetch ETF prices\n",
    "etf_prices = yf.download(etf_tickers,\n",
    "start=start_date,\n",
    "end=end_date)['Adj Close']\n",
    "\n",
    "# Ensure columns are in the desired order\n",
    "etf_prices = etf_prices[etf_tickers]\n",
    "\n",
    "# Calculate portfolio return with equal weights\n",
    "num_etfs = len(etf_tickers)\n",
    "\n",
    "portfolio_weights = [1/num_etfs]* num_etfs\n",
    "\n",
    "# Calculate portfolio return\n",
    "portfolio_return = (etf_prices.pct_change()\n",
    "* portfolio_weights).sum(axis=1)\n",
    "\n",
    "# Calculate correlation of portfolio return with each ETF return\n",
    "correlation_against_etf = etf_prices.pct_change().corrwith(portfolio_return)\n",
    "\n",
    "# Create a DataFrame to display correlations against ETFs\n",
    "correlation_table = pd.DataFrame(correlation_against_etf,\n",
    "columns=['Correlation against ETF'])\n",
    "\n",
    "print(correlation_table)"
   ]
  },
  {
   "cell_type": "code",
   "execution_count": 11,
   "metadata": {},
   "outputs": [
    {
     "name": "stdout",
     "output_type": "stream",
     "text": [
      "\n",
      "Correlation and Covariance against ETF:\n",
      "     Correlation against ETF  Covariance against ETF\n",
      "SPY                 0.939430                0.000068\n",
      "IWM                 0.942948                0.000105\n",
      "DIA                 0.929564                0.000059\n"
     ]
    }
   ],
   "source": [
    "\n",
    "## Calculation for 2c.\n",
    "# Calculate returns\n",
    "returns = etf_prices.pct_change()\n",
    "\n",
    "# Calculate covariance matrix\n",
    "covariance_matrix = returns.cov()\n",
    "\n",
    "# Calculate covariance of the portfolio against each ETF\n",
    "# Assuming equal portfolio weights\n",
    "portfolio_weights = [1/len(etf_tickers)]* len(etf_tickers)\n",
    "\n",
    "covariance_portfolio = (covariance_matrix * portfolio_weights).sum(axis=1)\n",
    "\n",
    "# Create a DataFrame for both correlation and covariance against ETFs\n",
    "portfolio_etfs = pd.DataFrame({'Correlation against ETF': correlation_against_etf, 'Covariance against ETF': covariance_portfolio}, index=etf_tickers)\n",
    "\n",
    "print(\"\\nCorrelation and Covariance against ETF:\")\n",
    "print(portfolio_etfs)"
   ]
  },
  {
   "cell_type": "code",
   "execution_count": 12,
   "metadata": {},
   "outputs": [
    {
     "name": "stdout",
     "output_type": "stream",
     "text": [
      "Combined Portfolio ETF Metrics Table:\n",
      "     Correlation against ETF  Covariance against ETF  Tracking Errors\n",
      "SPY                 0.939430                0.000068         0.003014\n",
      "IWM                 0.942948                0.000105         0.005259\n",
      "DIA                 0.929564                0.000059         0.003384\n"
     ]
    }
   ],
   "source": [
    "## Calculation for 2d.\n",
    "# Calculate tracking errors using trailing 10 years\n",
    "tracking_errors = [(portfolio_return - returns[etf]).std()\n",
    "for etf in etf_tickers]\n",
    "\n",
    "# Create a DataFrame for tracking errors\n",
    "tracking_errors_table = pd.DataFrame({'Tracking Errors':tracking_errors}, index=etf_tickers)\n",
    "\n",
    "# Combine correlation, covariance, and tracking errors into one DataFrame\n",
    "combined_table = pd.concat([portfolio_etfs,tracking_errors_table],axis=1)\n",
    "\n",
    "# Display the final DataFrame\n",
    "print(\"Combined Portfolio ETF Metrics Table:\")\n",
    "print(combined_table)\n"
   ]
  },
  {
   "cell_type": "code",
   "execution_count": 13,
   "metadata": {},
   "outputs": [
    {
     "name": "stdout",
     "output_type": "stream",
     "text": [
      "Combined Portfolio ETF Metrics Table:\n",
      "     Correlation against ETF  Covariance against ETF  Tracking Errors  \\\n",
      "SPY                 0.939430                0.000068         0.003014   \n",
      "IWM                 0.942948                0.000105         0.005259   \n",
      "DIA                 0.929564                0.000059         0.003384   \n",
      "\n",
      "     Sharpe Ratio  \n",
      "SPY     -5.058298  \n",
      "IWM     -3.315331  \n",
      "DIA     -5.842461  \n"
     ]
    }
   ],
   "source": [
    "## Calculation for 2e.\n",
    "# Calculate Sharpe Ratio using the current risk-free rate\n",
    "risk_free_rate = 0.0427\n",
    "\n",
    "sharpe_ratios = [(returns[etf].mean()- risk_free_rate) / returns[etf].std() for etf in etf_tickers]\n",
    "\n",
    "# Create a DataFrame for Sharpe Ratios\n",
    "sharpe_ratio_table = pd.DataFrame({'Sharpe Ratio' : sharpe_ratios}, index=etf_tickers)\n",
    "\n",
    "# Combine correlation, covariance, tracking errors, and Sharpe Ratios into one DataFrame\n",
    "combined_table = pd.concat([portfolio_etfs, tracking_errors_table, sharpe_ratio_table],axis=1)\n",
    "\n",
    "# Display the final DataFrame\n",
    "print(\"Combined Portfolio ETF Metrics Table:\")\n",
    "print(combined_table)"
   ]
  },
  {
   "cell_type": "code",
   "execution_count": 14,
   "metadata": {},
   "outputs": [
    {
     "name": "stdout",
     "output_type": "stream",
     "text": [
      "Combined Portfolio ETF Metrics Table:\n",
      "     Correlation against ETF  Covariance against ETF  Tracking Errors  \\\n",
      "SPY                 0.939430                0.000068         0.003014   \n",
      "IWM                 0.942948                0.000105         0.005259   \n",
      "DIA                 0.929564                0.000059         0.003384   \n",
      "\n",
      "     Sharpe Ratio  Volatility Spread  \n",
      "SPY     -5.058298           0.008675  \n",
      "IWM     -3.315331          -0.061388  \n",
      "DIA     -5.842461           0.025265  \n"
     ]
    }
   ],
   "source": [
    "## Calculation for 2f.\n",
    "\n",
    "import numpy as np\n",
    "\n",
    "# Convert portfolio_weights to a NumPy array\n",
    "portfolio_weights_array = np.array(portfolio_weights)\n",
    "\n",
    "# Calculate Annualized Volatility (252 days) for both portfolio and ETFs\n",
    "portfolio_volatility = np.sqrt(np.sum(portfolio_weights_array.T.dot(covariance_matrix).dot(portfolio_weights_array))* 252)\n",
    "etf_volatility = np.sqrt(np.diag(covariance_matrix)* 252)\n",
    "\n",
    "# Calculate Volatility Spread\n",
    "volatility_spread = portfolio_volatility - etf_volatility\n",
    "\n",
    "# Create a DataFrame for Volatility Spread\n",
    "volatility_spread_table = pd.DataFrame({'Volatility Spread': volatility_spread}, index=etf_tickers)\n",
    "\n",
    "# Combine correlation, covariance, tracking errors, Sharpe Ratios, and Volatility Spread into one DataFrame\n",
    "combined_table = pd.concat([portfolio_etfs, tracking_errors_table,sharpe_ratio_table, volatility_spread_table], axis=1)\n",
    "\n",
    "# Display the final DataFrame\n",
    "print(\"Combined Portfolio ETF Metrics Table:\")\n",
    "print(combined_table)"
   ]
  }
 ],
 "metadata": {
  "kernelspec": {
   "display_name": "Python 3",
   "language": "python",
   "name": "python3"
  },
  "language_info": {
   "codemirror_mode": {
    "name": "ipython",
    "version": 3
   },
   "file_extension": ".py",
   "mimetype": "text/x-python",
   "name": "python",
   "nbconvert_exporter": "python",
   "pygments_lexer": "ipython3",
   "version": "3.11.8"
  }
 },
 "nbformat": 4,
 "nbformat_minor": 2
}
